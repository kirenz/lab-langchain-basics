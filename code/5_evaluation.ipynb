{
    "cells": [
        {
            "cell_type": "markdown",
            "metadata": {},
            "source": [
                "# LangChain: Evaluation\n",
                "\n",
                "Example generation, Manual evaluation (and debuging), LLM-assisted evaluation & LangChain evaluation platform\n",
                "\n",
                "# Setup\n",
                "\n",
                "## Python"
            ]
        },
        {
            "cell_type": "code",
            "metadata": {},
            "source": [
                "from langchain.evaluation.qa import QAEvalChain\n",
                "import langchain\n",
                "from langchain.evaluation.qa import QAGenerateChain\n",
                "from langchain.vectorstores import DocArrayInMemorySearch\n",
                "from langchain.indexes import VectorstoreIndexCreator\n",
                "from langchain.document_loaders import CSVLoader\n",
                "from langchain.chat_models import ChatOpenAI\n",
                "from langchain.chains import RetrievalQA\n",
                "import datetime\n",
                "import os\n",
                "\n",
                "from dotenv import load_dotenv, find_dotenv\n",
                "_ = load_dotenv(find_dotenv())"
            ],
            "execution_count": null,
            "outputs": []
        },
        {
            "cell_type": "markdown",
            "metadata": {},
            "source": [
                "# Q and A Application\n",
                "\n",
                "## Load data"
            ]
        },
        {
            "cell_type": "code",
            "metadata": {},
            "source": [
                "file = '../data/OutdoorClothingCatalog_1000.csv'\n",
                "loader = CSVLoader(file_path=file)\n",
                "data = loader.load()"
            ],
            "execution_count": null,
            "outputs": []
        },
        {
            "cell_type": "markdown",
            "metadata": {},
            "source": [
                "- Vector store\n",
                "\n",
                ""
            ]
        },
        {
            "cell_type": "code",
            "metadata": {},
            "source": [
                "index = VectorstoreIndexCreator(\n",
                "    vectorstore_cls=DocArrayInMemorySearch\n",
                ").from_loaders([loader])"
            ],
            "execution_count": null,
            "outputs": []
        },
        {
            "cell_type": "markdown",
            "metadata": {},
            "source": [
                "## Retrieval QA chain"
            ]
        },
        {
            "cell_type": "code",
            "metadata": {},
            "source": [
                "llm_model = \"gpt-3.5-turbo\"\n",
                "\n",
                "llm = ChatOpenAI(temperature=0.0, model=llm_model)\n",
                "\n",
                "qa = RetrievalQA.from_chain_type(\n",
                "    llm=llm,\n",
                "    chain_type=\"stuff\",\n",
                "    retriever=index.vectorstore.as_retriever(),\n",
                "    verbose=True,\n",
                "    chain_type_kwargs={\n",
                "        \"document_separator\": \"<<<<>>>>>\"\n",
                "    }\n",
                ")"
            ],
            "execution_count": null,
            "outputs": []
        },
        {
            "cell_type": "markdown",
            "metadata": {},
            "source": [
                "# Test Datapoints Manually\n",
                "\n",
                "- We use our data and come up with relevant questions\n",
                "\n",
                "## Datapoint 1 {.smaller}"
            ]
        },
        {
            "cell_type": "code",
            "metadata": {},
            "source": [
                "data[10]"
            ],
            "execution_count": null,
            "outputs": []
        },
        {
            "cell_type": "markdown",
            "metadata": {},
            "source": [
                "- `Output`: Document(page_content=\": 10\\nname: Cozy Comfort Pullover Set, Stripe\\ndescription: Perfect for lounging, this striped knit set lives up to its name. We used ultrasoft fabric and an easy design that's as comfortable at bedtime as it is when we have to make a quick run out.\\n\\nSize & Fit\\n- Pants are Favorite Fit: Sits lower on the waist.\\n- Relaxed Fit: Our most generous fit sits farthest from the body.\\n\\nFabric & Care\\n- In the softest blend of 63% polyester, 35% rayon and 2% spandex.\\n\\nAdditional Features\\n- Relaxed fit top with raglan sleeves and rounded hem.\\n- Pull-on pants have a wide elastic waistband and drawstring, side pockets and a modern slim leg.\\n\\nImported.\", metadata={'source': '../data/OutdoorClothingCatalog_1000.csv', 'row': 10})\n",
                "\n",
                "## Datapoint 2 {.smaller}"
            ]
        },
        {
            "cell_type": "code",
            "metadata": {},
            "source": [
                "data[11]"
            ],
            "execution_count": null,
            "outputs": []
        },
        {
            "cell_type": "markdown",
            "metadata": {},
            "source": [
                "- `Output`: Document(page_content=': 11\\nname: Ultra-Lofty 850 Stretch Down Hooded Jacket\\ndescription: This technical stretch down jacket from our DownTek collection is sure to keep you warm and comfortable with its full-stretch construction providing exceptional range of motion. With a slightly fitted style that falls at the hip and best with a midweight layer, this jacket is suitable for light activity up to 20° and moderate activity up to -30°. The soft and durable 100% polyester shell offers complete windproof protection and is insulated with warm, lofty goose down. Other features include welded baffles for a no-stitch construction and excellent stretch, an adjustable hood, an interior media port and mesh stash pocket and a hem drawcord. Machine wash and dry. Imported.', metadata={'source': '../data/OutdoorClothingCatalog_1000.csv', 'row': 11})\n",
                "\n",
                "## Hard-coded example questions"
            ]
        },
        {
            "cell_type": "code",
            "metadata": {},
            "source": [
                "examples = [\n",
                "    {\n",
                "        \"query\": \"Do the Cozy Comfort Pullover Set\\\n",
                "        have side pockets?\",\n",
                "        \"answer\": \"Yes\"\n",
                "    },\n",
                "    {\n",
                "        \"query\": \"What collection is the Ultra-Lofty \\\n",
                "        850 Stretch Down Hooded Jacket from?\",\n",
                "        \"answer\": \"The DownTek collection\"\n",
                "    }\n",
                "]"
            ],
            "execution_count": null,
            "outputs": []
        },
        {
            "cell_type": "markdown",
            "metadata": {},
            "source": [
                "# LLM-Generated examples\n",
                "\n",
                "- Automate evaluation with a llM\n",
                "\n",
                "## QAGenerateChain\n",
                "\n",
                "- Generate questions and answer pairs"
            ]
        },
        {
            "cell_type": "code",
            "metadata": {},
            "source": [
                "example_gen_chain = QAGenerateChain.from_llm(ChatOpenAI(model=llm_model))"
            ],
            "execution_count": null,
            "outputs": []
        },
        {
            "cell_type": "markdown",
            "metadata": {},
            "source": [
                "\n",
                "\n",
                "- Create dictionary with question and answer pair"
            ]
        },
        {
            "cell_type": "code",
            "metadata": {},
            "source": [
                "# the warning can be safely ignored\n",
                "new_examples = example_gen_chain.apply_and_parse(\n",
                "    [{\"doc\": t} for t in data[:5]]\n",
                ")"
            ],
            "execution_count": null,
            "outputs": []
        },
        {
            "cell_type": "markdown",
            "metadata": {},
            "source": [
                "## New examples"
            ]
        },
        {
            "cell_type": "code",
            "metadata": {},
            "source": [
                "new_examples[0]"
            ],
            "execution_count": null,
            "outputs": []
        },
        {
            "cell_type": "markdown",
            "metadata": {},
            "source": [
                "- `Output`: {'query': \"What is the weight of one pair of Women's Campside Oxfords?\",\n",
                " 'answer': \"The approximate weight of one pair of Women's Campside Oxfords is 1 lb. 1 oz.\"}\n",
                "\n",
                "## Original data {.smaller}\n"
            ]
        },
        {
            "cell_type": "code",
            "metadata": {},
            "source": [
                "data[0]"
            ],
            "execution_count": null,
            "outputs": []
        },
        {
            "cell_type": "markdown",
            "metadata": {},
            "source": [
                "- `Output`: Document(page_content=\": 0\\nname: Women's Campside Oxfords\\ndescription: This ultracomfortable lace-to-toe Oxford boasts a super-soft canvas, thick cushioning, and quality construction for a broken-in feel from the first time you put them on. \\n\\nSize & Fit: Order regular shoe size. For half sizes not offered, order up to next whole size. \\n\\nSpecs: Approx. weight: 1 lb.1 oz. per pair. \\n\\nConstruction: Soft canvas material for a broken-in feel and look. Comfortable EVA innersole with Cleansport NXT® antimicrobial odor control. Vintage hunt, fish and camping motif on innersole. Moderate arch contour of innersole. EVA foam midsole for cushioning and support. Chain-tread-inspired molded rubber outsole with modified chain-tread pattern. Imported. \\n\\nQuestions? Please contact us for any inquiries.\", metadata={'source': '../data/OutdoorClothingCatalog_1000.csv', 'row': 0})\n",
                "\n",
                "# QA Chain\n",
                "\n",
                "## Combine examples"
            ]
        },
        {
            "cell_type": "code",
            "metadata": {},
            "source": [
                "examples += new_examples"
            ],
            "execution_count": null,
            "outputs": []
        },
        {
            "cell_type": "markdown",
            "metadata": {},
            "source": [
                ""
            ]
        },
        {
            "cell_type": "code",
            "metadata": {},
            "source": [
                "qa.run(examples[0][\"query\"])"
            ],
            "execution_count": null,
            "outputs": []
        },
        {
            "cell_type": "markdown",
            "metadata": {},
            "source": [
                "- `Output`: 'Yes, the Cozy Comfort Pullover Set does have side pockets.'\n",
                "\n",
                "- Very litte information about the process in the output\n",
                "\n",
                "## Langchain debug\n",
                "\n",
                "- We set `.debug=True`to get more information\n",
                "\n",
                ""
            ]
        },
        {
            "cell_type": "code",
            "metadata": {},
            "source": [
                "langchain.debug = True"
            ],
            "execution_count": null,
            "outputs": []
        },
        {
            "cell_type": "markdown",
            "metadata": {},
            "source": [
                "- Rerun the same application and take a look at your output\n",
                "\n",
                ""
            ]
        },
        {
            "cell_type": "code",
            "metadata": {},
            "source": [
                "qa.run(examples[0][\"query\"])"
            ],
            "execution_count": null,
            "outputs": []
        },
        {
            "cell_type": "markdown",
            "metadata": {},
            "source": [
                "\n",
                "\n",
                "```bash\n",
                "[chain/start] [1:chain:RetrievalQA] Entering Chain run with input:\n",
                "{\n",
                "  \"query\": \"Do the Cozy Comfort Pullover Set        have side pockets?\"\n",
                "}\n",
                "[chain/start] [1:chain:RetrievalQA > 3:chain:StuffDocumentsChain] Entering Chain run with input:\n",
                "[inputs]\n",
                "[chain/start] [1:chain:RetrievalQA > 3:chain:StuffDocumentsChain > 4:chain:LLMChain] Entering Chain run with input:\n",
                "{\n",
                "  \"question\": \"Do the Cozy Comfort Pullover Set        have side pockets?\",\n",
                "  \"context\": \": 10\\nname: Cozy Comfort Pullover Set, Stripe\\ndescription: Perfect for lounging, this striped knit set lives up to its name. We used ultrasoft fabric and an easy design that's as comfortable at bedtime as it is when we have to make a quick run out.\\n\\nSize & Fit\\n- Pants are Favorite Fit: Sits lower on the waist.\\n- Relaxed Fit: Our most generous fit sits farthest from the body.\\n\\nFabric & Care\\n- In the softest blend of 63% polyester, 35% rayon and 2% spandex.\\n\\nAdditional Features\\n- Relaxed fit top with raglan sleeves and rounded hem.\\n- Pull-on pants have a wide elastic waistband and drawstring, side pockets and a modern slim leg.\\n\\nImported.<<<<>>>>>: 73\\nname: Cozy Cuddles Knit Pullover Set\\ndescription: Perfect for lounging, this knit set lives up to its name. We used ultrasoft fabric and an easy design that's as comfortable at bedtime as it is when we have to make a quick run out. \\n\\nSize & Fit \\nPants are Favorite Fit: Sits lower on the waist. \\nRelaxed Fit: Our most generous fit sits farthest from the body. \\n\\nFabric & Care \\nIn the softest blend of 63% polyester, 35% rayon and 2% spandex.\\n\\nAdditional Features \\nRelaxed fit top with raglan sleeves and rounded hem. \\nPull-on pants have a wide elastic waistband and drawstring, side pockets and a modern slim leg. \\nImported.<<<<>>>>>: 632\\nname: Cozy Comfort Fleece Pullover\\ndescription: The ultimate sweater fleece – made from superior fabric and offered at an unbeatable price. \\n\\nSize & Fit\\nSlightly Fitted: Softly shapes the body. Falls at hip. \\n\\nWhy We Love It\\nOur customers (and employees) love the rugged construction and heritage-inspired styling of our popular Sweater Fleece Pullover and wear it for absolutely everything. From high-intensity activities to everyday tasks, you'll find yourself reaching for it every time.\\n\\nFabric & Care\\nRugged sweater-knit exterior and soft brushed interior for exceptional warmth and comfort. Made from soft, 100% polyester. Machine wash and dry.\\n\\nAdditional Features\\nFeatures our classic Mount Katahdin logo. Snap placket. Front princess seams create a feminine shape. Kangaroo handwarmer pockets. Cuffs and hem reinforced with jersey binding. Imported.\\n\\n – Official Supplier to the U.S. Ski Team\\nTHEIR WILL TO WIN, WOVEN RIGHT IN. LEARN MORE<<<<>>>>>: 151\\nname: Cozy Quilted Sweatshirt\\ndescription: Our sweatshirt is an instant classic with its great quilted texture and versatile weight that easily transitions between seasons. With a traditional fit that is relaxed through the chest, sleeve, and waist, this pullover is lightweight enough to be worn most months of the year. The cotton blend fabric is super soft and comfortable, making it the perfect casual layer. To make dressing easy, this sweatshirt also features a snap placket and a heritage-inspired Mt. Katahdin logo patch. For care, machine wash and dry. Imported.\"\n",
                "}\n",
                "[llm/start] [1:chain:RetrievalQA > 3:chain:StuffDocumentsChain > 4:chain:LLMChain > 5:llm:ChatOpenAI] Entering LLM run with input:\n",
                "{\n",
                "  \"prompts\": [\n",
                "    \"System: Use the following pieces of context to answer the users question. \\nIf you don't know the answer, just say that you don't know, don't try to make up an answer.\\n----------------\\n: 10\\nname: Cozy Comfort Pullover Set, Stripe\\ndescription: Perfect for lounging, this striped knit set lives up to its name. We used ultrasoft fabric and an easy design that's as comfortable at bedtime as it is when we have to make a quick run out.\\n\\nSize & Fit\\n- Pants are Favorite Fit: Sits lower on the waist.\\n- Relaxed Fit: Our most generous fit sits farthest from the body.\\n\\nFabric & Care\\n- In the softest blend of 63% polyester, 35% rayon and 2% spandex.\\n\\nAdditional Features\\n- Relaxed fit top with raglan sleeves and rounded hem.\\n- Pull-on pants have a wide elastic waistband and drawstring, side pockets and a modern slim leg.\\n\\nImported.<<<<>>>>>: 73\\nname: Cozy Cuddles Knit Pullover Set\\ndescription: Perfect for lounging, this knit set lives up to its name. We used ultrasoft fabric and an easy design that's as comfortable at bedtime as it is when we have to make a quick run out. \\n\\nSize & Fit \\nPants are Favorite Fit: Sits lower on the waist. \\nRelaxed Fit: Our most generous fit sits farthest from the body. \\n\\nFabric & Care \\nIn the softest blend of 63% polyester, 35% rayon and 2% spandex.\\n\\nAdditional Features \\nRelaxed fit top with raglan sleeves and rounded hem. \\nPull-on pants have a wide elastic waistband and drawstring, side pockets and a modern slim leg. \\nImported.<<<<>>>>>: 632\\nname: Cozy Comfort Fleece Pullover\\ndescription: The ultimate sweater fleece – made from superior fabric and offered at an unbeatable price. \\n\\nSize & Fit\\nSlightly Fitted: Softly shapes the body. Falls at hip. \\n\\nWhy We Love It\\nOur customers (and employees) love the rugged construction and heritage-inspired styling of our popular Sweater Fleece Pullover and wear it for absolutely everything. From high-intensity activities to everyday tasks, you'll find yourself reaching for it every time.\\n\\nFabric & Care\\nRugged sweater-knit exterior and soft brushed interior for exceptional warmth and comfort. Made from soft, 100% polyester. Machine wash and dry.\\n\\nAdditional Features\\nFeatures our classic Mount Katahdin logo. Snap placket. Front princess seams create a feminine shape. Kangaroo handwarmer pockets. Cuffs and hem reinforced with jersey binding. Imported.\\n\\n – Official Supplier to the U.S. Ski Team\\nTHEIR WILL TO WIN, WOVEN RIGHT IN. LEARN MORE<<<<>>>>>: 151\\nname: Cozy Quilted Sweatshirt\\ndescription: Our sweatshirt is an instant classic with its great quilted texture and versatile weight that easily transitions between seasons. With a traditional fit that is relaxed through the chest, sleeve, and waist, this pullover is lightweight enough to be worn most months of the year. The cotton blend fabric is super soft and comfortable, making it the perfect casual layer. To make dressing easy, this sweatshirt also features a snap placket and a heritage-inspired Mt. Katahdin logo patch. For care, machine wash and dry. Imported.\\nHuman: Do the Cozy Comfort Pullover Set        have side pockets?\"\n",
                "  ]\n",
                "}\n",
                "[llm/end] [1:chain:RetrievalQA > 3:chain:StuffDocumentsChain > 4:chain:LLMChain > 5:llm:ChatOpenAI] [1.20s] Exiting LLM run with output:\n",
                "{\n",
                "  \"generations\": [\n",
                "    [\n",
                "      {\n",
                "        \"text\": \"Yes, the Cozy Comfort Pullover Set does have side pockets.\",\n",
                "        \"generation_info\": null,\n",
                "        \"message\": {\n",
                "          \"lc\": 1,\n",
                "          \"type\": \"constructor\",\n",
                "          \"id\": [\n",
                "            \"langchain\",\n",
                "            \"schema\",\n",
                "            \"messages\",\n",
                "            \"AIMessage\"\n",
                "          ],\n",
                "          \"kwargs\": {\n",
                "            \"content\": \"Yes, the Cozy Comfort Pullover Set does have side pockets.\",\n",
                "            \"additional_kwargs\": {}\n",
                "          }\n",
                "        }\n",
                "      }\n",
                "    ]\n",
                "  ],\n",
                "  \"llm_output\": {\n",
                "    \"token_usage\": {\n",
                "      \"prompt_tokens\": 732,\n",
                "      \"completion_tokens\": 14,\n",
                "      \"total_tokens\": 746\n",
                "    },\n",
                "    \"model_name\": \"gpt-3.5-turbo\"\n",
                "  },\n",
                "  \"run\": null\n",
                "}\n",
                "[chain/end] [1:chain:RetrievalQA > 3:chain:StuffDocumentsChain > 4:chain:LLMChain] [1.20s] Exiting Chain run with output:\n",
                "{\n",
                "  \"text\": \"Yes, the Cozy Comfort Pullover Set does have side pockets.\"\n",
                "}\n",
                "[chain/end] [1:chain:RetrievalQA > 3:chain:StuffDocumentsChain] [1.20s] Exiting Chain run with output:\n",
                "{\n",
                "  \"output_text\": \"Yes, the Cozy Comfort Pullover Set does have side pockets.\"\n",
                "}\n",
                "[chain/end] [1:chain:RetrievalQA] [5.15s] Exiting Chain run with output:\n",
                "{\n",
                "  \"result\": \"Yes, the Cozy Comfort Pullover Set does have side pockets.\"\n",
                "}\n",
                "```\n",
                "\n",
                "## Turn of debug mode"
            ]
        },
        {
            "cell_type": "code",
            "metadata": {},
            "source": [
                "# Turn off the debug mode\n",
                "langchain.debug = False"
            ],
            "execution_count": null,
            "outputs": []
        },
        {
            "cell_type": "markdown",
            "metadata": {},
            "source": [
                "## Limitations\n",
                "\n",
                "- Only possible for relatively simple applications\n",
                "- In the next section, we take a look at an automated approach\n",
                "\n",
                "# LLM Assisted Evaluation\n",
                "\n",
                "Let's use a LLM for semantic evaluation\n",
                "\n",
                "## QAEvalChain\n",
                "\n",
                "- Get predictions for our examples\n",
                "\n",
                ""
            ]
        },
        {
            "cell_type": "code",
            "metadata": {},
            "source": [
                "predictions = qa.apply(examples)"
            ],
            "execution_count": null,
            "outputs": []
        },
        {
            "cell_type": "markdown",
            "metadata": {},
            "source": [
                "\n",
                "\n",
                "- Create chain with LLM"
            ]
        },
        {
            "cell_type": "code",
            "metadata": {},
            "source": [
                "llm = ChatOpenAI(temperature=0, model=llm_model)\n",
                "\n",
                "eval_chain = QAEvalChain.from_llm(llm)"
            ],
            "execution_count": null,
            "outputs": []
        },
        {
            "cell_type": "markdown",
            "metadata": {},
            "source": [
                "- Call evaluate\n",
                "\n",
                ""
            ]
        },
        {
            "cell_type": "code",
            "metadata": {},
            "source": [
                "graded_outputs = eval_chain.evaluate(examples, predictions)"
            ],
            "execution_count": null,
            "outputs": []
        },
        {
            "cell_type": "markdown",
            "metadata": {},
            "source": [
                "## QAEvalChain\n",
                "\n",
                "- Loop through examples"
            ]
        },
        {
            "cell_type": "code",
            "metadata": {},
            "source": [
                "for i, eg in enumerate(examples):\n",
                "    print(f\"Example {i}:\")\n",
                "    print(\"Question: \" + predictions[i]['query'])\n",
                "    print(\"Real Answer: \" + predictions[i]['answer'])\n",
                "    print(\"Predicted Answer: \" + predictions[i]['result'])\n",
                "    print(\"Predicted Grade: \" + graded_outputs[i]['text'])\n",
                "    print()"
            ],
            "execution_count": null,
            "outputs": []
        },
        {
            "cell_type": "markdown",
            "metadata": {},
            "source": [
                "\n",
                "\n",
                "```markdown\n",
                "\n",
                "Example 0:\n",
                "Question: Do the Cozy Comfort Pullover Set        have side pockets?\n",
                "Real Answer: Yes\n",
                "Predicted Answer: Yes, the Cozy Comfort Pullover Set does have side pockets.\n",
                "Predicted Grade: CORRECT\n",
                "\n",
                "Example 1:\n",
                "Question: What collection is the Ultra-Lofty         850 Stretch Down Hooded Jacket from?\n",
                "Real Answer: The DownTek collection\n",
                "Predicted Answer: The Ultra-Lofty 850 Stretch Down Hooded Jacket is from the DownTek collection.\n",
                "Predicted Grade: CORRECT\n",
                "\n",
                "Example 2:\n",
                "Question: What is the weight of one pair of Women's Campside Oxfords?\n",
                "Real Answer: The approximate weight of one pair of Women's Campside Oxfords is 1 lb. 1 oz.\n",
                "Predicted Answer: The weight of one pair of Women's Campside Oxfords is approximately 1 lb. 1 oz.\n",
                "Predicted Grade: CORRECT\n",
                "\n",
                "Example 3:\n",
                "Question: What are the dimensions of the medium-sized Recycled Waterhog Dog Mat, Chevron Weave?\n",
                "Real Answer: The dimensions of the medium-sized Recycled Waterhog Dog Mat, Chevron Weave are 22.5\" x 34.5\".\n",
                "Predicted Answer: The dimensions of the medium-sized Recycled Waterhog Dog Mat, Chevron Weave are 22.5\" x 34.5\".\n",
                "Predicted Grade: CORRECT\n",
                "\n",
                "Example 4:\n",
                "...\n",
                "Real Answer: The fabric composition of the EcoFlex 3L Storm Pants is 100% nylon, exclusive of trim.\n",
                "Predicted Answer: The fabric composition of the EcoFlex 3L Storm Pants is 100% nylon, exclusive of trim.\n",
                "Predicted Grade: CORRECT\n",
                "\n",
                "```\n",
                "\n",
                "## Graded outputs"
            ]
        },
        {
            "cell_type": "code",
            "metadata": {},
            "source": [
                "graded_outputs[0]"
            ],
            "execution_count": null,
            "outputs": []
        }
    ],
    "metadata": {
        "kernelspec": {
            "name": "python3",
            "language": "python",
            "display_name": "Python 3 (ipykernel)"
        }
    },
    "nbformat": 4,
    "nbformat_minor": 4
}