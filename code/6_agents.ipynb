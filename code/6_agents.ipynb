{
    "cells": [
        {
            "cell_type": "markdown",
            "metadata": {},
            "source": [
                "# LangChain: Agents\n",
                "\n",
                "Using built in LangChain tools: DuckDuckGo search and Wikipedia\n",
                "& defining your own tools\n",
                "\n",
                "# Setup\n",
                "\n",
                "## Python"
            ]
        },
        {
            "cell_type": "code",
            "metadata": {},
            "source": [
                "from datetime import date\n",
                "from langchain.agents import tool\n",
                "import warnings\n",
                "from langchain.chat_models import ChatOpenAI\n",
                "from langchain.python import PythonREPL\n",
                "from langchain.tools.python.tool import PythonREPLTool\n",
                "from langchain.agents import AgentType\n",
                "from langchain.agents import load_tools, initialize_agent\n",
                "from langchain.agents.agent_toolkits import create_python_agent\n",
                "import langchain\n",
                "import os\n",
                "\n",
                "from dotenv import load_dotenv, find_dotenv\n",
                "_ = load_dotenv(find_dotenv())  # read local .env file\n",
                "\n",
                "\n",
                "llm_model = \"gpt-3.5-turbo\"\n",
                "\n",
                "warnings.filterwarnings(\"ignore\")"
            ],
            "execution_count": null,
            "outputs": []
        },
        {
            "cell_type": "markdown",
            "metadata": {},
            "source": [
                "# Built-in LangChain tools\n",
                "\n",
                "## Load tools\n",
                "\n",
                "- OpenAI"
            ]
        },
        {
            "cell_type": "code",
            "metadata": {},
            "source": [
                "llm = ChatOpenAI(temperature=0, model=llm_model)"
            ],
            "execution_count": null,
            "outputs": []
        },
        {
            "cell_type": "markdown",
            "metadata": {},
            "source": [
                "- Math tool and connection to wikipedia\n",
                "\n",
                ""
            ]
        },
        {
            "cell_type": "code",
            "metadata": {},
            "source": [
                "tools = load_tools([\"llm-math\", \"wikipedia\"], llm=llm)"
            ],
            "execution_count": null,
            "outputs": []
        },
        {
            "cell_type": "markdown",
            "metadata": {},
            "source": [
                "- Initialize agent \n",
                "\n",
                ""
            ]
        },
        {
            "cell_type": "code",
            "metadata": {},
            "source": [
                "agent = initialize_agent(\n",
                "    tools,\n",
                "    llm,\n",
                "    agent=AgentType.ZERO_SHOT_REACT_DESCRIPTION,\n",
                "    handle_parsing_errors=True,\n",
                "    verbose=True)"
            ],
            "execution_count": null,
            "outputs": []
        },
        {
            "cell_type": "markdown",
            "metadata": {},
            "source": [
                "## Example math question"
            ]
        },
        {
            "cell_type": "code",
            "metadata": {},
            "source": [
                "agent(\"What is 25% of 300?\")"
            ],
            "execution_count": null,
            "outputs": []
        },
        {
            "cell_type": "markdown",
            "metadata": {},
            "source": [
                "- {'input': 'What is 25% of 300?', 'output': '25% of 300 is 75.0'}\n",
                "\n",
                "## Steps\n",
                "\n",
                "```bash\n",
                "Steps: I can use the calculator to find the answer to this math question.\n",
                "Action: Calculator\n",
                "Action Input: 25% of 300\n",
                "Observation: Answer: 75.0\n",
                "Thought:I now know the final answer\n",
                "Final Answer: 25% of 300 is 75.0\n",
                "\n",
                "> Finished chain.\n",
                "```\n",
                "\n",
                "## Wikipedia example"
            ]
        },
        {
            "cell_type": "code",
            "metadata": {},
            "source": [
                "question = \"Tom M. Mitchell is an American computer scientist \\\n",
                "and the Founders University Professor at Carnegie Mellon University (CMU)\\\n",
                "what book did he write?\"\n",
                "\n",
                "result = agent(question)"
            ],
            "execution_count": null,
            "outputs": []
        },
        {
            "cell_type": "markdown",
            "metadata": {},
            "source": [
                "- `Output`: Final Answer: Tom M. Mitchell wrote the book \"Machine Learning\".\n",
                "\n",
                "\n",
                "## Steps {.smaller}\n",
                "\n",
                "```bash\n",
                "> Entering new  chain...\n",
                "I should use Wikipedia to find information about Tom M. Mitchell and his books.\n",
                "Action: Wikipedia\n",
                "Action Input: Tom M. Mitchell\n",
                "Observation: Page: Tom M. Mitchell\n",
                "Summary: Tom Michael Mitchell (born August 9, 1951) is an American computer scientist and the Founders University Professor at Carnegie Mellon University (CMU). He is a founder and former Chair of the Machine Learning Department at CMU. Mitchell is known for his contributions to the advancement of machine learning, artificial intelligence, and cognitive neuroscience and is the author of the textbook Machine Learning. He is a member of the United States National Academy of Engineering since 2010. He is also a Fellow of the American Academy of Arts and Sciences, the American Association for the Advancement of Science and a Fellow and past President of the Association for the Advancement of Artificial Intelligence. In October 2018, Mitchell was appointed as the Interim Dean of the School of Computer Science at Carnegie Mellon.\n",
                "\n",
                "Page: Tom Mitchell (Australian footballer)\n",
                "Summary: Thomas Mitchell (born 31 May 1993) is a professional Australian rules footballer playing for the Collingwood Football Club in the Australian Football League (AFL). He previously played for the Sydney Swans from 2012 to 2016, and the Hawthorn Football Club between 2017 and 2022. Mitchell won the Brownlow Medal as the league's best and fairest player in 2018 and set the record for the most disposals in a VFL/AFL match, accruing 54 in a game against Collingwood during that season.\n",
                "\n",
                "\n",
                "Thought:I found the information about Tom M. Mitchell and his book on machine learning.\n",
                "Action: Wikipedia\n",
                "Action Input: Machine Learning (book)\n",
                "Observation: Page: Machine learning\n",
                "Summary: Machine learning (ML) is an umbrella term for solving problems for which development of algorithms by human programmers would be cost-prohibitive, and instead the problems are solved by helping machines 'discover' their 'own' algorithms, without needing to be explicitly told what to do by any human-developed algorithms. Recently, generative artificial neural networks have been able to surpass results of many previous approaches. Machine learning approaches have been applied to large language models, computer vision, speech recognition, email filtering, agriculture and medicine, where it is too costly to develop algorithms to perform the needed tasks.The mathematical foundations of ML are provided by mathematical optimization (mathematical programming) methods. Data mining is a related (parallel) field of study, focusing on exploratory data analysis through unsupervised learning.ML is known in its application across business problems under the name predictive analytics. Although not all machine learning is statistically-based, computational statistics is an important source of the field's methods. \n",
                "\n",
                "\n",
                "\n",
                "Page: Outline of machine learning\n",
                "Summary: The following outline is provided as an overview of and topical guide to machine learning. Machine learning is a subfield of soft computing within computer science that evolved from the study of pattern recognition and computational learning theory in artificial intelligence. In 1959, Arthur Samuel defined machine learning as a \"field of study that gives computers the ability to learn without being explicitly programmed\". Machine learning explores the study and construction of algorithms that can learn from and make predictions on data. Such algorithms operate by building a model from an example training set of input observations in order to make data-driven predictions or decisions expressed as outputs, rather than following strictly static program instructions.\n",
                "\n",
                "Page: Quantum machine learning\n",
                "Summary: Quantum machine learning is the integration of quantum algorithms within machine learning programs.The most common use of the term refers to machine learning algorithms for the analysis of classical data executed on a quantum computer, i.e. quantum-enhanced machine learning. While machine learning algorithms are used to compute immense quantities of data, quantum machine learning utilizes qubits and quantum operations or specialized quantum systems to improve computational speed and data storage done by algorithms in a program. This includes hybrid methods that involve both classical and quantum processing, where computationally difficult subroutines are outsourced to a quantum device. These routines can be more complex in nature and executed faster on a quantum computer. Furthermore, quantum algorithms can be used to analyze quantum states instead of classical data.Beyond quantum computing, the term \"quantum machine learning\" is also associated with classical machine learning methods applied to data generated from quantum experiments (i.e. machine learning of quantum systems), such as learning the phase transitions of a quantum system or creating new quantum experiments.Quantum machine learning also extends to a branch of research that explores methodological and structural similarities between certain physical systems and learning systems, in particular neural networks. For example, some mathematical and numerical techniques from quantum physics are applicable to classical deep learning and vice versa.Furthermore, researchers investigate more abstract notions of learning theory with respect to quantum information, sometimes referred to as \"quantum learning theory\".\n",
                "Thought:I have found the information about Tom M. Mitchell and his book \"Machine Learning\" on Wikipedia.\n",
                "Thought: I now know the final answer.\n",
                "Final Answer: Tom M. Mitchell wrote the book \"Machine Learning\".\n",
                "\n",
                "> Finished chain.\n",
                "```\n",
                "\n",
                "# Python Agent\n",
                "\n",
                "## PythonREPLTool\n",
                "\n",
                "- Agent can execute code\n",
                "\n",
                ""
            ]
        },
        {
            "cell_type": "code",
            "metadata": {},
            "source": [
                "agent = create_python_agent(\n",
                "    llm,\n",
                "    tool=PythonREPLTool(),\n",
                "    verbose=True\n",
                ")"
            ],
            "execution_count": null,
            "outputs": []
        },
        {
            "cell_type": "markdown",
            "metadata": {},
            "source": [
                "## Example data"
            ]
        },
        {
            "cell_type": "code",
            "metadata": {},
            "source": [
                "customer_list = [[\"Harrison\", \"Chase\"],\n",
                "                 [\"Lang\", \"Chain\"],\n",
                "                 [\"Dolly\", \"Too\"],\n",
                "                 [\"Elle\", \"Elem\"],\n",
                "                 [\"Geoff\", \"Fusion\"],\n",
                "                 [\"Trance\", \"Former\"],\n",
                "                 [\"Jen\", \"Ayai\"]\n",
                "                 ]"
            ],
            "execution_count": null,
            "outputs": []
        },
        {
            "cell_type": "markdown",
            "metadata": {},
            "source": [
                "## Task"
            ]
        },
        {
            "cell_type": "code",
            "metadata": {},
            "source": [
                "agent.run(f\"\"\"Sort these customers by \\\n",
                "last name and then first name \\\n",
                "and print the output: {customer_list}\"\"\")"
            ],
            "execution_count": null,
            "outputs": []
        },
        {
            "cell_type": "markdown",
            "metadata": {},
            "source": [
                "- `Output`: \"[['Jen', 'Ayai'], ['Harrison', 'Chase'], ['Lang', 'Chain'], ['Elle', 'Elem'], ['Geoff', 'Fusion'], ['Trance', 'Former'], ['Dolly', 'Too']]\"\n",
                "\n",
                "## Show steps {.smaller}\n",
                "\n",
                "```markdown\n",
                "> Entering new  chain...\n",
                "I can use the `sorted()` function to sort the list of customers. I will need to provide a key function that specifies the sorting order based on last name and then first name.\n",
                "Action: Python_REPL\n",
                "Action Input: sorted([['Harrison', 'Chase'], ['Lang', 'Chain'], ['Dolly', 'Too'], ['Elle', 'Elem'], ['Geoff', 'Fusion'], ['Trance', 'Former'], ['Jen', 'Ayai']], key=lambda x: (x[1], x[0]))\n",
                "Observation: \n",
                "Thought:The customers have been sorted by last name and then first name.\n",
                "Final Answer: [['Jen', 'Ayai'], ['Harrison', 'Chase'], ['Lang', 'Chain'], ['Elle', 'Elem'], ['Geoff', 'Fusion'], ['Trance', 'Former'], ['Dolly', 'Too']]\n",
                "\n",
                "> Finished chain.\n",
                "```\n",
                "\n",
                "## View detailed outputs of the chains\n",
                "\n",
                "```{python}\\\n",
                "\n",
                "langchain.debug = True\n",
                "agent.run(f\"\"\"Sort these customers by \\\n",
                "last name and then first name \\\n",
                "and print the output: {customer_list}\"\"\")\n",
                "langchain.debug = False\n",
                "```\\\n",
                "\n",
                "```\n",
                "\n",
                "\n",
                "# Define your own Tool\n",
                "\n",
                "Show current date\n",
                "\n",
                "## Function\n"
            ]
        },
        {
            "cell_type": "code",
            "metadata": {},
            "source": [
                "@tool\n",
                "def time(text: str) -> str:\n",
                "    \"\"\"Returns todays date, use this for any \\\n",
                "    questions related to knowing todays date. \\\n",
                "    The input should always be an empty string, \\\n",
                "    and this function will always return todays \\\n",
                "    date - any date mathmatics should occur \\\n",
                "    outside this function.\"\"\"\n",
                "    return str(date.today())\n"
            ],
            "execution_count": null,
            "outputs": []
        },
        {
            "cell_type": "markdown",
            "metadata": {},
            "source": [
                "## Agent"
            ]
        },
        {
            "cell_type": "code",
            "metadata": {},
            "source": [
                "agent = initialize_agent(\n",
                "    tools + [time],\n",
                "    llm,\n",
                "    agent=AgentType.CHAT_ZERO_SHOT_REACT_DESCRIPTION,\n",
                "    handle_parsing_errors=True,\n",
                "    verbose=True)"
            ],
            "execution_count": null,
            "outputs": []
        },
        {
            "cell_type": "markdown",
            "metadata": {},
            "source": [
                "- The agent will sometimes come to the wrong conclusion (agents are a work in progress!). If it does, please try running it again.\n",
                "\n",
                "## Output"
            ]
        },
        {
            "cell_type": "code",
            "metadata": {},
            "source": [
                "try:\n",
                "    result = agent(\"whats the date today?\")\n",
                "except:\n",
                "    print(\"exception on external access\")"
            ],
            "execution_count": null,
            "outputs": []
        }
    ],
    "metadata": {
        "kernelspec": {
            "name": "python3",
            "language": "python",
            "display_name": "Python 3 (ipykernel)"
        }
    },
    "nbformat": 4,
    "nbformat_minor": 4
}