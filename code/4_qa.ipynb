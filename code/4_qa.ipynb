{
    "cells": [
        {
            "cell_type": "markdown",
            "metadata": {},
            "source": [
                "# LangChain: Q&A over Documents\n",
                "\n",
                "Let's build a tool that would allow you to query a product catalog for items of interest.\n",
                "\n",
                "# Setup\n",
                "\n",
                "## Python\n"
            ]
        },
        {
            "cell_type": "code",
            "metadata": {},
            "source": [
                "from langchain.embeddings import OpenAIEmbeddings\n",
                "from langchain.indexes import VectorstoreIndexCreator\n",
                "from IPython.display import display, Markdown\n",
                "from langchain.vectorstores import DocArrayInMemorySearch  # vector store\n",
                "from langchain.document_loaders import CSVLoader\n",
                "from langchain.chat_models import ChatOpenAI\n",
                "from langchain.chains import RetrievalQA\n",
                "import datetime\n",
                "import os\n",
                "\n",
                "from dotenv import load_dotenv, find_dotenv\n",
                "_ = load_dotenv(find_dotenv())  # read local .env file"
            ],
            "execution_count": null,
            "outputs": []
        },
        {
            "cell_type": "code",
            "metadata": {},
            "source": [
                "# pip install --upgrade langchain"
            ],
            "execution_count": null,
            "outputs": []
        },
        {
            "cell_type": "markdown",
            "metadata": {},
            "source": [
                "# Simple example\n",
                "\n",
                "## Load Data"
            ]
        },
        {
            "cell_type": "code",
            "metadata": {},
            "source": [
                "file = '../data/OutdoorClothingCatalog_1000.csv'\n",
                "loader = CSVLoader(file_path=file)"
            ],
            "execution_count": null,
            "outputs": []
        },
        {
            "cell_type": "markdown",
            "metadata": {},
            "source": [
                "\n",
                "\n",
                "- Create vector store"
            ]
        },
        {
            "cell_type": "code",
            "metadata": {},
            "source": [
                "index = VectorstoreIndexCreator(\n",
                "    vectorstore_cls=DocArrayInMemorySearch\n",
                ").from_loaders([loader])"
            ],
            "execution_count": null,
            "outputs": []
        },
        {
            "cell_type": "markdown",
            "metadata": {},
            "source": [
                "## Query and response"
            ]
        },
        {
            "cell_type": "code",
            "metadata": {},
            "source": [
                "query = \"Please list all your shirts with sun protection \\\n",
                "in a table in markdown and summarize each one.\""
            ],
            "execution_count": null,
            "outputs": []
        },
        {
            "cell_type": "markdown",
            "metadata": {},
            "source": [
                ""
            ]
        },
        {
            "cell_type": "code",
            "metadata": {},
            "source": [
                "response = index.query(query)"
            ],
            "execution_count": null,
            "outputs": []
        },
        {
            "cell_type": "markdown",
            "metadata": {},
            "source": [
                ""
            ]
        },
        {
            "cell_type": "code",
            "metadata": {
                "output-location": "slide"
            },
            "source": [
                "display(Markdown(response))"
            ],
            "execution_count": null,
            "outputs": []
        },
        {
            "cell_type": "markdown",
            "metadata": {},
            "source": [
                "# Step By Step\n",
                "\n",
                "## Basics\n",
                "\n",
                "- Language models ca only inspect a few thousands word at a time\n",
                "\n",
                "- This is why we need embeddings and vector stores\n",
                "\n",
                "\n",
                "## Loader\n",
                "\n",
                "- We use our `loader` from before (`loader = CSVLoader(file_path=file)`\n",
                "\n",
                "\n",
                ""
            ]
        },
        {
            "cell_type": "code",
            "metadata": {},
            "source": [
                "docs = loader.load()"
            ],
            "execution_count": null,
            "outputs": []
        },
        {
            "cell_type": "code",
            "metadata": {
                "output-location": "fragment"
            },
            "source": [
                "docs[0]"
            ],
            "execution_count": null,
            "outputs": []
        },
        {
            "cell_type": "markdown",
            "metadata": {},
            "source": [
                "- Document(page_content=\": 0\\nname: Women's Campside Oxfords\\ndescription: This ultracomfortable lace-to-toe Oxford boasts a super-soft canvas, thick cushioning, and quality construction for a broken-in feel from the first time you put them on. \\n\\nSize & Fit: Order regular shoe size. For half sizes not offered, order up to next whole size. \\n\\nSpecs: Approx. weight: 1 lb.1 oz. per pair. \\n\\nConstruction: Soft canvas material for a broken-in feel and look. Comfortable EVA innersole with Cleansport NXT® antimicrobial odor control. Vintage hunt, fish and camping motif on innersole. Moderate arch contour of innersole. EVA foam midsole for cushioning and support. Chain-tread-inspired molded rubber outsole with modified chain-tread pattern. Imported. \\n\\nQuestions? Please contact us for any inquiries.\", metadata={'source': '../data/OutdoorClothingCatalog_1000.csv', 'row': 0})\n",
                "\n",
                "## Embeddings\n",
                "\n",
                "- Our documents are so small that we dont need to chunck them first\n",
                "\n",
                ""
            ]
        },
        {
            "cell_type": "code",
            "metadata": {},
            "source": [
                "embeddings = OpenAIEmbeddings()"
            ],
            "execution_count": null,
            "outputs": []
        },
        {
            "cell_type": "markdown",
            "metadata": {},
            "source": [
                ""
            ]
        },
        {
            "cell_type": "code",
            "metadata": {},
            "source": [
                "embed = embeddings.embed_query(\"Hi my name is Jan\")"
            ],
            "execution_count": null,
            "outputs": []
        },
        {
            "cell_type": "markdown",
            "metadata": {},
            "source": [
                ""
            ]
        },
        {
            "cell_type": "code",
            "metadata": {},
            "source": [
                "print(len(embed))"
            ],
            "execution_count": null,
            "outputs": []
        },
        {
            "cell_type": "markdown",
            "metadata": {},
            "source": [
                "- 1536\n",
                "\n",
                ""
            ]
        },
        {
            "cell_type": "code",
            "metadata": {},
            "source": [
                "print(embed[:5])"
            ],
            "execution_count": null,
            "outputs": []
        },
        {
            "cell_type": "markdown",
            "metadata": {},
            "source": [
                "- [-0.015501204878091812, -0.0016401495086029172, -0.01953849568963051, -0.016909271478652954, -0.021893581375479698]\n",
                "\n",
                "## Create vector store"
            ]
        },
        {
            "cell_type": "code",
            "metadata": {},
            "source": [
                "db = DocArrayInMemorySearch.from_documents(\n",
                "    docs,\n",
                "    embeddings\n",
                ")"
            ],
            "execution_count": null,
            "outputs": []
        },
        {
            "cell_type": "markdown",
            "metadata": {},
            "source": [
                "## Query {.smaller}"
            ]
        },
        {
            "cell_type": "code",
            "metadata": {},
            "source": [
                "query = \"Please suggest a shirt with sunblocking\""
            ],
            "execution_count": null,
            "outputs": []
        },
        {
            "cell_type": "markdown",
            "metadata": {},
            "source": [
                ""
            ]
        },
        {
            "cell_type": "code",
            "metadata": {},
            "source": [
                "docs = db.similarity_search(query)"
            ],
            "execution_count": null,
            "outputs": []
        },
        {
            "cell_type": "markdown",
            "metadata": {},
            "source": [
                ""
            ]
        },
        {
            "cell_type": "code",
            "metadata": {},
            "source": [
                "len(docs)"
            ],
            "execution_count": null,
            "outputs": []
        },
        {
            "cell_type": "markdown",
            "metadata": {},
            "source": [
                "- 4\n",
                "\n",
                ""
            ]
        },
        {
            "cell_type": "code",
            "metadata": {},
            "source": [
                "docs[0]"
            ],
            "execution_count": null,
            "outputs": []
        },
        {
            "cell_type": "markdown",
            "metadata": {},
            "source": [
                "- Document(page_content=': 255\\nname: Sun Shield Shirt by\\ndescription: \"Block the sun, not the fun – our high-performance sun shirt is guaranteed to protect from harmful UV rays. \\n\\nSize & Fit: Slightly Fitted: Softly shapes the body. Falls at hip.\\n\\nFabric & Care: 78% nylon, 22% Lycra Xtra Life fiber. UPF 50+ rated – the highest rated sun protection possible. Handwash, line dry.\\n\\nAdditional Features: Wicks moisture for quick-drying comfort. Fits comfortably over your favorite swimsuit. Abrasion resistant for season after season of wear. Imported.\\n\\nSun Protection That Won\\'t Wear Off\\nOur high-performance fabric provides SPF 50+ sun protection, blocking 98% of the sun\\'s harmful rays. This fabric is recommended by The Skin Cancer Foundation as an effective UV protectant.', metadata={'source': '../data/OutdoorClothingCatalog_1000.csv', 'row': 255})\n",
                "\n",
                "# Manual Example\n",
                "\n",
                ""
            ]
        },
        {
            "cell_type": "code",
            "metadata": {},
            "source": [
                "llm_model = \"gpt-3.5-turbo\"\n",
                "llm = ChatOpenAI(temperature=0.0, model=llm_model)"
            ],
            "execution_count": null,
            "outputs": []
        },
        {
            "cell_type": "markdown",
            "metadata": {},
            "source": [
                "\n",
                "\n",
                "- If we would do it manually, we would combine the text with a join"
            ]
        },
        {
            "cell_type": "code",
            "metadata": {},
            "source": [
                "qdocs = \"\".join([docs[i].page_content for i in range(len(docs))])"
            ],
            "execution_count": null,
            "outputs": []
        },
        {
            "cell_type": "markdown",
            "metadata": {},
            "source": [
                "\n",
                "\n",
                "- And then we would provide qdocs to the llm:"
            ]
        },
        {
            "cell_type": "code",
            "metadata": {},
            "source": [
                "# This may take a while\n",
                "response = llm.call_as_llm(f\"{qdocs} Question: Please list all your \\\n",
                "shirts with sun protection in a table in markdown and summarize each one.\")"
            ],
            "execution_count": null,
            "outputs": []
        },
        {
            "cell_type": "markdown",
            "metadata": {},
            "source": [
                ""
            ]
        },
        {
            "cell_type": "code",
            "metadata": {},
            "source": [
                "display(Markdown(response))"
            ],
            "execution_count": null,
            "outputs": []
        },
        {
            "cell_type": "markdown",
            "metadata": {},
            "source": [
                "XYZ Error\n",
                "\n",
                "# Retrieval Chain\n",
                "\n",
                "## Chain\n"
            ]
        },
        {
            "cell_type": "code",
            "metadata": {},
            "source": [
                "retriever = db.as_retriever()"
            ],
            "execution_count": null,
            "outputs": []
        },
        {
            "cell_type": "markdown",
            "metadata": {},
            "source": [
                ""
            ]
        },
        {
            "cell_type": "code",
            "metadata": {},
            "source": [
                "qa_stuff = RetrievalQA.from_chain_type(\n",
                "    llm=llm,\n",
                "    chain_type=\"stuff\",  # one propmt and one result\n",
                "    retriever=retriever,\n",
                "    verbose=True\n",
                ")"
            ],
            "execution_count": null,
            "outputs": []
        },
        {
            "cell_type": "markdown",
            "metadata": {},
            "source": [
                "## Query"
            ]
        },
        {
            "cell_type": "code",
            "metadata": {},
            "source": [
                "query = \"Please list all your shirts with sun protection in a table \\\n",
                "in markdown and summarize each one.\""
            ],
            "execution_count": null,
            "outputs": []
        },
        {
            "cell_type": "markdown",
            "metadata": {},
            "source": [
                ""
            ]
        },
        {
            "cell_type": "code",
            "metadata": {},
            "source": [
                "response = qa_stuff.run(query)"
            ],
            "execution_count": null,
            "outputs": []
        },
        {
            "cell_type": "markdown",
            "metadata": {},
            "source": [
                ""
            ]
        },
        {
            "cell_type": "code",
            "metadata": {},
            "source": [
                "display(Markdown(response))"
            ],
            "execution_count": null,
            "outputs": []
        },
        {
            "cell_type": "markdown",
            "metadata": {},
            "source": [
                ""
            ]
        },
        {
            "cell_type": "code",
            "metadata": {},
            "source": [
                "response = index.query(query, llm=llm)"
            ],
            "execution_count": null,
            "outputs": []
        }
    ],
    "metadata": {
        "kernelspec": {
            "name": "python3",
            "language": "python",
            "display_name": "Python 3 (ipykernel)"
        }
    },
    "nbformat": 4,
    "nbformat_minor": 4
}