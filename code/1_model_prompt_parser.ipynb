{
    "cells": [
        {
            "cell_type": "markdown",
            "metadata": {},
            "source": [
                "# LangChain: Models, Prompts and Output Parsers\n",
                "\n",
                "* Direct API calls to OpenAI\n",
                "* API calls through LangChain:\n",
                "    * Prompts\n",
                "    * Models\n",
                "    * Output parsers\n",
                "\n",
                "# Setup\n",
                "\n",
                "## Python\n"
            ]
        },
        {
            "cell_type": "code",
            "metadata": {},
            "source": [
                "from langchain.output_parsers import StructuredOutputParser\n",
                "from langchain.output_parsers import ResponseSchema\n",
                "from langchain.prompts import ChatPromptTemplate\n",
                "from langchain.chat_models import ChatOpenAI\n",
                "import datetime\n",
                "import os\n",
                "import openai\n",
                "\n",
                "from dotenv import load_dotenv, find_dotenv\n",
                "_ = load_dotenv(find_dotenv())  # read local .env file\n",
                "openai.api_key = os.environ['OPENAI_API_KEY']"
            ],
            "execution_count": null,
            "outputs": []
        },
        {
            "cell_type": "markdown",
            "metadata": {},
            "source": [
                "# Chat API: OpenAI\n",
                "\n",
                "## Helper function: get_completion\n",
                "\n",
                "- Let's start with a direct API calls to OpenAI.\n",
                "\n",
                ""
            ]
        },
        {
            "cell_type": "code",
            "metadata": {},
            "source": [
                "llm_model = \"gpt-3.5-turbo\"\n",
                "\n",
                "\n",
                "def get_completion(prompt, model=llm_model):\n",
                "    messages = [{\"role\": \"user\", \"content\": prompt}]\n",
                "    response = openai.ChatCompletion.create(\n",
                "        model=model,\n",
                "        messages=messages,\n",
                "        temperature=0,\n",
                "    )\n",
                "    return response.choices[0].message[\"content\"]\n"
            ],
            "execution_count": null,
            "outputs": []
        },
        {
            "cell_type": "markdown",
            "metadata": {},
            "source": [
                "## Example"
            ]
        },
        {
            "cell_type": "code",
            "metadata": {},
            "source": [
                "get_completion(\"What is 1+1?\")"
            ],
            "execution_count": null,
            "outputs": []
        },
        {
            "cell_type": "markdown",
            "metadata": {},
            "source": [
                "- '1+1 equals 2.'\n",
                "\n",
                "## Customer Email"
            ]
        },
        {
            "cell_type": "code",
            "metadata": {},
            "source": [
                "customer_email = \"\"\"\n",
                "Arrr, I be fuming that me blender lid \\\n",
                "flew off and splattered me kitchen walls \\\n",
                "with smoothie! And to make matters worse,\\\n",
                "the warranty don't cover the cost of \\\n",
                "cleaning up me kitchen. I need yer help \\\n",
                "right now, matey!\n",
                "\"\"\""
            ],
            "execution_count": null,
            "outputs": []
        },
        {
            "cell_type": "markdown",
            "metadata": {},
            "source": [
                "## Prompt"
            ]
        },
        {
            "cell_type": "code",
            "metadata": {},
            "source": [
                "style = \"\"\"American English \\\n",
                "in a calm and respectful tone\n",
                "\"\"\""
            ],
            "execution_count": null,
            "outputs": []
        },
        {
            "cell_type": "markdown",
            "metadata": {},
            "source": [
                ""
            ]
        },
        {
            "cell_type": "code",
            "metadata": {},
            "source": [
                "prompt = f\"\"\"Translate the text \\\n",
                "that is delimited by triple backticks \n",
                "into a style that is {style}.\n",
                "text: ```{customer_email}```\n",
                "\"\"\""
            ],
            "execution_count": null,
            "outputs": []
        },
        {
            "cell_type": "markdown",
            "metadata": {},
            "source": [
                "## Result"
            ]
        },
        {
            "cell_type": "code",
            "metadata": {},
            "source": [
                "response = get_completion(prompt)"
            ],
            "execution_count": null,
            "outputs": []
        },
        {
            "cell_type": "markdown",
            "metadata": {},
            "source": [
                ""
            ]
        },
        {
            "cell_type": "code",
            "metadata": {},
            "source": [
                "response"
            ],
            "execution_count": null,
            "outputs": []
        },
        {
            "cell_type": "markdown",
            "metadata": {},
            "source": [
                "-' I am quite frustrated that my blender lid flew off and made a mess of my kitchen walls with smoothie! To add to my frustration, the warranty does not cover the cost of cleaning up my kitchen. I kindly request your assistance at this moment, my friend.'\n",
                "\n",
                "\n",
                "# Chat API: LangChain\n",
                "\n",
                "Let's try how we can do the same using LangChain.\n",
                "\n",
                "## Model"
            ]
        },
        {
            "cell_type": "code",
            "metadata": {},
            "source": [
                "# To control the randomness and creativity of the generated\n",
                "# text by an LLM, use temperature = 0.0\n",
                "chat = ChatOpenAI(temperature=0.0, model=llm_model)\n",
                "chat"
            ],
            "execution_count": null,
            "outputs": []
        },
        {
            "cell_type": "markdown",
            "metadata": {},
            "source": [
                "- ChatOpenAI(cache=None, verbose=False, callbacks=None, callback_manager=None, tags=None, metadata=None, client=<class 'openai.api_resources.chat_completion.ChatCompletion'>, model_name='gpt-3.5-turbo', temperature=0.0, model_kwargs={}, openai_api_key='xxx', openai_api_base='', openai_organization='xxx', openai_proxy='', request_timeout=None, max_retries=6, streaming=False, n=1, max_tokens=None, tiktoken_model_name=None)\n",
                "\n",
                "## Define prompt template"
            ]
        },
        {
            "cell_type": "code",
            "metadata": {},
            "source": [
                "template_string = \"\"\"Translate the text \\\n",
                "that is delimited by triple backticks \\\n",
                "into a style that is {style}. \\\n",
                "text: ```{text}```\n",
                "\"\"\""
            ],
            "execution_count": null,
            "outputs": []
        },
        {
            "cell_type": "markdown",
            "metadata": {},
            "source": [
                ""
            ]
        },
        {
            "cell_type": "code",
            "metadata": {},
            "source": [
                "prompt_template = ChatPromptTemplate.from_template(template_string)"
            ],
            "execution_count": null,
            "outputs": []
        },
        {
            "cell_type": "markdown",
            "metadata": {},
            "source": [
                "## Inspect prompt template"
            ]
        },
        {
            "cell_type": "code",
            "metadata": {},
            "source": [
                "prompt_template.messages[0].prompt"
            ],
            "execution_count": null,
            "outputs": []
        },
        {
            "cell_type": "markdown",
            "metadata": {},
            "source": [
                "- PromptTemplate(input_variables=['style', 'text'], output_parser=None, partial_variables={}, template='Translate the text that is delimited by triple backticks into a style that is {style}. text: ```{text}```\\n', template_format='f-string', validate_template=True)\n",
                "\n",
                ""
            ]
        },
        {
            "cell_type": "code",
            "metadata": {},
            "source": [
                "prompt_template.messages[0].prompt.input_variables"
            ],
            "execution_count": null,
            "outputs": []
        },
        {
            "cell_type": "markdown",
            "metadata": {},
            "source": [
                "- ['style', 'text']\n",
                "\n",
                "## Customer template input\n",
                "\n",
                "- Text:\n",
                "\n",
                ""
            ]
        },
        {
            "cell_type": "code",
            "metadata": {},
            "source": [
                "customer_email = \"\"\"\n",
                "Arrr, I be fuming that me blender lid \\\n",
                "flew off and splattered me kitchen walls \\\n",
                "with smoothie! And to make matters worse, \\\n",
                "the warranty don't cover the cost of \\\n",
                "cleaning up me kitchen. I need yer help \\\n",
                "right now, matey!\n",
                "\"\"\""
            ],
            "execution_count": null,
            "outputs": []
        },
        {
            "cell_type": "markdown",
            "metadata": {},
            "source": [
                "- Style:\n",
                "\n",
                ""
            ]
        },
        {
            "cell_type": "code",
            "metadata": {},
            "source": [
                "customer_style = \"\"\"American English \\\n",
                "in a calm and respectful tone\n",
                "\"\"\""
            ],
            "execution_count": null,
            "outputs": []
        },
        {
            "cell_type": "markdown",
            "metadata": {},
            "source": [
                "## Create template\n"
            ]
        },
        {
            "cell_type": "code",
            "metadata": {},
            "source": [
                "customer_messages = prompt_template.format_messages(\n",
                "    style=customer_style,\n",
                "    text=customer_email)"
            ],
            "execution_count": null,
            "outputs": []
        },
        {
            "cell_type": "markdown",
            "metadata": {},
            "source": [
                ""
            ]
        },
        {
            "cell_type": "code",
            "metadata": {},
            "source": [
                "print(type(customer_messages))\n",
                "print(type(customer_messages[0]))"
            ],
            "execution_count": null,
            "outputs": []
        },
        {
            "cell_type": "markdown",
            "metadata": {},
            "source": [
                "- <class 'list'>\n",
                "- <class 'langchain.schema.messages.HumanMessage'>\n",
                "\n",
                "\n",
                "## Customer messages prompt"
            ]
        },
        {
            "cell_type": "code",
            "metadata": {},
            "source": [
                "print(customer_messages[0])"
            ],
            "execution_count": null,
            "outputs": []
        },
        {
            "cell_type": "markdown",
            "metadata": {},
            "source": [
                "- content=\"Translate the text that is delimited by triple backticks into a style that is American English in a calm and respectful tone\\n. text: ```\\nArrr, I be fuming that me blender lid flew off and splattered me kitchen walls with smoothie! And to make matters worse, the warranty don't cover the cost of cleaning up me kitchen. I need yer help right now, matey!\\n```\\n\" additional_kwargs={} example=False\n",
                "\n",
                "\n",
                "## Customer messages response "
            ]
        },
        {
            "cell_type": "code",
            "metadata": {},
            "source": [
                "# Call the LLM to translate to the style of the customer message\n",
                "customer_response = chat(customer_messages)"
            ],
            "execution_count": null,
            "outputs": []
        },
        {
            "cell_type": "markdown",
            "metadata": {},
            "source": [
                ""
            ]
        },
        {
            "cell_type": "code",
            "metadata": {},
            "source": [
                "print(customer_response.content)"
            ],
            "execution_count": null,
            "outputs": []
        },
        {
            "cell_type": "markdown",
            "metadata": {},
            "source": [
                "- I'm really frustrated that my blender lid flew off and made a mess of my kitchen walls with smoothie! And to make things even worse, the warranty doesn't cover the cost of cleaning up my kitchen. I could really use your help right now, my friend!\n",
                "\n",
                "## Service reply input"
            ]
        },
        {
            "cell_type": "code",
            "metadata": {},
            "source": [
                "service_reply = \"\"\"Hey there customer, \\\n",
                "the warranty does not cover \\\n",
                "cleaning expenses for your kitchen \\\n",
                "because it's your fault that \\\n",
                "you misused your blender \\\n",
                "by forgetting to put the lid on before \\\n",
                "starting the blender. \\\n",
                "Tough luck! See ya!\n",
                "\"\"\""
            ],
            "execution_count": null,
            "outputs": []
        },
        {
            "cell_type": "markdown",
            "metadata": {},
            "source": [
                ""
            ]
        },
        {
            "cell_type": "code",
            "metadata": {},
            "source": [
                "service_style_pirate = \"\"\"\\\n",
                "a polite tone \\\n",
                "that speaks in English Pirate\\\n",
                "\"\"\""
            ],
            "execution_count": null,
            "outputs": []
        },
        {
            "cell_type": "markdown",
            "metadata": {},
            "source": [
                "## Service reply prompt template {.smaller}"
            ]
        },
        {
            "cell_type": "code",
            "metadata": {},
            "source": [
                "service_messages = prompt_template.format_messages(\n",
                "    style=service_style_pirate,\n",
                "    text=service_reply)\n",
                "\n",
                "print(service_messages[0].content)"
            ],
            "execution_count": null,
            "outputs": []
        },
        {
            "cell_type": "markdown",
            "metadata": {},
            "source": [
                "- Translate the text that is delimited by triple backticks into a style that is a polite tone that speaks in English Pirate. text: \\```Hey there customer, the warranty does not cover cleaning expenses for your kitchen because it's your fault that you misused your blender by forgetting to put the lid on before starting the blender. Tough luck! See ya!\n",
                "\\```\n",
                "\n",
                "## Service reply response"
            ]
        },
        {
            "cell_type": "code",
            "metadata": {},
            "source": [
                "service_response = chat(service_messages)\n",
                "print(service_response.content)"
            ],
            "execution_count": null,
            "outputs": []
        },
        {
            "cell_type": "markdown",
            "metadata": {},
            "source": [
                "- Ahoy there, matey! I regret to inform ye that the warranty be not coverin' the costs o' cleanin' yer galley, as 'tis yer own fault fer misusin' yer blender by forgettin' to secure the lid afore startin' it. Aye, tough luck, me heartie! Fare thee well!\n",
                "\n",
                "\n",
                "# Output Parsers\n",
                "\n",
                "## Output style\n",
                "\n",
                "- Let's start with defining how we would like the LLM output to look like:\n",
                "\n",
                ""
            ]
        },
        {
            "cell_type": "code",
            "metadata": {},
            "source": [
                "{\n",
                "    \"gift\": False,\n",
                "    \"delivery_days\": 5,\n",
                "    \"price_value\": \"pretty affordable!\"\n",
                "}"
            ],
            "execution_count": null,
            "outputs": []
        },
        {
            "cell_type": "markdown",
            "metadata": {},
            "source": [
                "## Customer review and template {.smaller}"
            ]
        },
        {
            "cell_type": "code",
            "metadata": {},
            "source": [
                "customer_review = \"\"\"\\\n",
                "This leaf blower is pretty amazing.  It has four settings:\\\n",
                "candle blower, gentle breeze, windy city, and tornado. \\\n",
                "It arrived in two days, just in time for my wife's \\\n",
                "anniversary present. \\\n",
                "I think my wife liked it so much she was speechless. \\\n",
                "So far I've been the only one using it, and I've been \\\n",
                "using it every other morning to clear the leaves on our lawn. \\\n",
                "It's slightly more expensive than the other leaf blowers \\\n",
                "out there, but I think it's worth it for the extra features.\n",
                "\"\"\"\n",
                "\n",
                "review_template = \"\"\"\\\n",
                "For the following text, extract the following information:\n",
                "\n",
                "gift: Was the item purchased as a gift for someone else? \\\n",
                "Answer True if yes, False if not or unknown.\n",
                "\n",
                "delivery_days: How many days did it take for the product \\\n",
                "to arrive? If this information is not found, output -1.\n",
                "\n",
                "price_value: Extract any sentences about the value or price,\\\n",
                "and output them as a comma separated Python list.\n",
                "\n",
                "Format the output as JSON with the following keys:\n",
                "gift\n",
                "delivery_days\n",
                "price_value\n",
                "\n",
                "text: {text}\n",
                "\"\"\""
            ],
            "execution_count": null,
            "outputs": []
        },
        {
            "cell_type": "markdown",
            "metadata": {},
            "source": [
                "## Prompt template"
            ]
        },
        {
            "cell_type": "code",
            "metadata": {},
            "source": [
                "prompt_template = ChatPromptTemplate.from_template(review_template)\n",
                "print(prompt_template)"
            ],
            "execution_count": null,
            "outputs": []
        },
        {
            "cell_type": "markdown",
            "metadata": {},
            "source": [
                "- input_variables=['text'] output_parser=None partial_variables={} messages=[HumanMessagePromptTemplate(prompt=PromptTemplate(input_variables=['text'], output_parser=None, partial_variables={}, template='For the following text, extract the following information:\\ngift: Was the item purchased as a gift for someone else? Answer True if yes, False if not or unknown.\\ndelivery_days: How many days did it take for the product to arrive? If this information is not found, output -1.\\nprice_value: Extract any sentences about the value or price,and output them as a comma separated Python list.\\nFormat the output as JSON with the following keys:\\ngift\\ndelivery_days\\nprice_value\\ntext: {text}\\n', template_format='f-string', validate_template=True), additional_kwargs={})]\n",
                "\n",
                "\n",
                "## Response {.smaller}"
            ]
        },
        {
            "cell_type": "code",
            "metadata": {},
            "source": [
                "messages = prompt_template.format_messages(text=customer_review)\n",
                "chat = ChatOpenAI(temperature=0.0, model=llm_model)\n",
                "response = chat(messages)\n",
                "print(response.content)"
            ],
            "execution_count": null,
            "outputs": []
        },
        {
            "cell_type": "markdown",
            "metadata": {},
            "source": [
                "```markdown\n",
                "\n",
                "{\n",
                "  \"gift\": false,\n",
                "  \"delivery_days\": 2,\n",
                "  \"price_value\": [\"It's slightly more expensive than the other leaf blowers out there, but I think it's worth it for the extra features.\"],\n",
                "  \"text\": \"This leaf blower is pretty amazing. It has four settings:candle blower, gentle breeze, windy city, and tornado. It arrived in two days, just in time for my wife's anniversary present. I think my wife liked it so much she was speechless. So far I've been the only one using it, and I've been using it every other morning to clear the leaves on our lawn. It's slightly more expensive than the other leaf blowers out there, but I think it's worth it for the extra features.\"\n",
                "}\n",
                "```\n",
                "\n",
                "## Inspect response\n"
            ]
        },
        {
            "cell_type": "code",
            "metadata": {},
            "source": [
                "type(response.content)"
            ],
            "execution_count": null,
            "outputs": []
        },
        {
            "cell_type": "markdown",
            "metadata": {},
            "source": [
                "- str\n",
                "\n",
                ""
            ]
        },
        {
            "cell_type": "code",
            "metadata": {},
            "source": [
                "# You will get an error by running this line of code\n",
                "# because'gift' is not a dictionary\n",
                "# 'gift' is a string\n",
                "response.content.get('gift')"
            ],
            "execution_count": null,
            "outputs": []
        },
        {
            "cell_type": "code",
            "metadata": {},
            "source": [
                "---------------------------------------------------------------------------\n",
                "AttributeError                            Traceback (most recent call last)\n",
                "/Users/jankirenz/labs/lab-langchain-basics/slides/1_model_prompt_parser.qmd in line 1\n",
                "----> 342 response.content.get('gift')\n",
                "\n",
                "AttributeError: 'str' object has no attribute 'get'"
            ],
            "execution_count": null,
            "outputs": []
        },
        {
            "cell_type": "markdown",
            "metadata": {},
            "source": [
                "# Parse Output into Dictionary\n",
                "\n",
                "## Parse output into dictionary {.smaller}\n",
                "\n",
                "- Parse the LLM output string into a Python dictionary\n",
                "\n",
                ""
            ]
        },
        {
            "cell_type": "code",
            "metadata": {},
            "source": [
                "gift_schema = ResponseSchema(name=\"gift\",\n",
                "                             description=\"Was the item purchased\\\n",
                "                             as a gift for someone else? \\\n",
                "                             Answer True if yes,\\\n",
                "                             False if not or unknown.\")\n",
                "\n",
                "delivery_days_schema = ResponseSchema(name=\"delivery_days\",\n",
                "                                      description=\"How many days\\\n",
                "                                      did it take for the product\\\n",
                "                                      to arrive? If this \\\n",
                "                                      information is not found,\\\n",
                "                                      output -1.\")\n",
                "\n",
                "price_value_schema = ResponseSchema(name=\"price_value\",\n",
                "                                    description=\"Extract any\\\n",
                "                                    sentences about the value or \\\n",
                "                                    price, and output them as a \\\n",
                "                                    comma separated Python list.\")\n",
                "\n",
                "response_schemas = [gift_schema,\n",
                "                    delivery_days_schema,\n",
                "                    price_value_schema]"
            ],
            "execution_count": null,
            "outputs": []
        },
        {
            "cell_type": "markdown",
            "metadata": {},
            "source": [
                "## StructuredOutputParser {.smaller}"
            ]
        },
        {
            "cell_type": "code",
            "metadata": {},
            "source": [
                "output_parser = StructuredOutputParser.from_response_schemas(response_schemas)"
            ],
            "execution_count": null,
            "outputs": []
        },
        {
            "cell_type": "markdown",
            "metadata": {},
            "source": [
                ""
            ]
        },
        {
            "cell_type": "code",
            "metadata": {},
            "source": [
                "format_instructions = output_parser.get_format_instructions()"
            ],
            "execution_count": null,
            "outputs": []
        },
        {
            "cell_type": "code",
            "metadata": {},
            "source": [
                "print(format_instructions)"
            ],
            "execution_count": null,
            "outputs": []
        },
        {
            "cell_type": "markdown",
            "metadata": {},
            "source": [
                "- The output should be a markdown code snippet formatted in the following schema, including the leading and trailing \"```json\" and \"```\":\n",
                "\n",
                "```json\n",
                "{\n",
                "\t\"gift\": string  // Was the item purchased                             as a gift for someone else?                              Answer True if yes,                             False if not or unknown.\n",
                "\t\"delivery_days\": string  // How many days                                      did it take for the product                                      to arrive? If this                                       information is not found,                                      output -1.\n",
                "\t\"price_value\": string  // Extract any                                    sentences about the value or                                     price, and output them as a                                     comma separated Python list.\n",
                "}\n",
                "```\n",
                "\n",
                "\n",
                "\n",
                "## Review template 2\n"
            ]
        },
        {
            "cell_type": "code",
            "metadata": {},
            "source": [
                "review_template_2 = \"\"\"\\\n",
                "For the following text, extract the following information:\n",
                "\n",
                "gift: Was the item purchased as a gift for someone else? \\\n",
                "Answer True if yes, False if not or unknown.\n",
                "\n",
                "delivery_days: How many days did it take for the product\\\n",
                "to arrive? If this information is not found, output -1.\n",
                "\n",
                "price_value: Extract any sentences about the value or price,\\\n",
                "and output them as a comma separated Python list.\n",
                "\n",
                "text: {text}\n",
                "\n",
                "{format_instructions}\n",
                "\"\"\"\n",
                "\n",
                "prompt = ChatPromptTemplate.from_template(template=review_template_2)\n",
                "\n",
                "messages = prompt.format_messages(text=customer_review,\n",
                "                                  format_instructions=format_instructions)"
            ],
            "execution_count": null,
            "outputs": []
        },
        {
            "cell_type": "markdown",
            "metadata": {},
            "source": [
                "## Inspect template"
            ]
        },
        {
            "cell_type": "code",
            "metadata": {},
            "source": [
                "print(messages[0].content)"
            ],
            "execution_count": null,
            "outputs": []
        },
        {
            "cell_type": "markdown",
            "metadata": {},
            "source": [
                "- For the following text, extract the following information:\n",
                "gift: Was the item purchased as a gift for someone else? Answer True if yes, False if not or unknown.\n",
                "delivery_days: How many days did it take for the productto arrive? If this information is not found, output -1.\n",
                "price_value: Extract any sentences about the value or price,and output them as a comma separated Python list.\n",
                "text: This leaf blower is pretty amazing.  It has four settings:candle blower, gentle breeze, windy city, and tornado. It arrived in two days, just in time for my wife's anniversary present. I think my wife liked it so much she was speechless. So far I've been the only one using it, and I've been using it every other morning to clear the leaves on our lawn. It's slightly more expensive than the other leaf blowers out there, but I think it's worth it for the extra features.\n",
                "\n",
                "The output should be a markdown code snippet formatted in the following schema, including the leading and trailing \"```json\" and \"```\":\n",
                "\n",
                "```json\n",
                "{\n",
                "\t\"gift\": string  // Was the item purchased                             as a gift for someone else?                              Answer True if yes,                             False if not or unknown.\n",
                "\t\"delivery_days\": string  // How many days                                      did it take for the product                                      to arrive? If this                                       information is not found,                                      output -1.\n",
                "\t\"price_value\": string  // Extract any                                    sentences about the value or                                     price, and output them as a                                     comma separated Python list.\n",
                "}\n",
                "```\n",
                "\n",
                "\n",
                "## Response"
            ]
        },
        {
            "cell_type": "code",
            "metadata": {},
            "source": [
                "response = chat(messages)"
            ],
            "execution_count": null,
            "outputs": []
        },
        {
            "cell_type": "markdown",
            "metadata": {},
            "source": [
                ""
            ]
        },
        {
            "cell_type": "code",
            "metadata": {},
            "source": [
                "print(response.content)"
            ],
            "execution_count": null,
            "outputs": []
        },
        {
            "cell_type": "markdown",
            "metadata": {},
            "source": [
                "\n",
                "\n",
                "```json\n",
                "{\n",
                "\t\"gift\": false,\n",
                "\t\"delivery_days\": \"2\",\n",
                "\t\"price_value\": \"It's slightly more expensive than the other leaf blowers out there, but I think it's worth it for the extra features.\"\n",
                "}\n",
                "```\n",
                "\n",
                "## Parse output {.smaller}"
            ]
        },
        {
            "cell_type": "code",
            "metadata": {},
            "source": [
                "output_dict = output_parser.parse(response.content)"
            ],
            "execution_count": null,
            "outputs": []
        },
        {
            "cell_type": "markdown",
            "metadata": {},
            "source": [
                " "
            ]
        },
        {
            "cell_type": "code",
            "metadata": {},
            "source": [
                "output_dict"
            ],
            "execution_count": null,
            "outputs": []
        },
        {
            "cell_type": "markdown",
            "metadata": {},
            "source": [
                "\n",
                "\n",
                "```json\n",
                "{'gift': False,\n",
                " 'delivery_days': '2',\n",
                " 'price_value': \"It's slightly more expensive than the other leaf blowers out there, but I think it's worth it for the extra features.\"}\n",
                "```\n"
            ]
        },
        {
            "cell_type": "code",
            "metadata": {},
            "source": [
                "type(output_dict)"
            ],
            "execution_count": null,
            "outputs": []
        },
        {
            "cell_type": "markdown",
            "metadata": {},
            "source": [
                "- dict"
            ]
        },
        {
            "cell_type": "code",
            "metadata": {},
            "source": [
                "output_dict.get('delivery_days')"
            ],
            "execution_count": null,
            "outputs": []
        }
    ],
    "metadata": {
        "kernelspec": {
            "name": "python3",
            "language": "python",
            "display_name": "Python 3 (ipykernel)"
        }
    },
    "nbformat": 4,
    "nbformat_minor": 4
}